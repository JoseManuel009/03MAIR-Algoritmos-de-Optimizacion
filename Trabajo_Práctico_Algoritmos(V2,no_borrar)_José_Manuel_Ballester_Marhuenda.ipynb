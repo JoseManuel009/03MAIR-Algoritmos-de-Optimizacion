{
  "nbformat": 4,
  "nbformat_minor": 0,
  "metadata": {
    "colab": {
      "provenance": [],
      "include_colab_link": true
    },
    "kernelspec": {
      "name": "python3",
      "display_name": "Python 3"
    }
  },
  "cells": [
    {
      "cell_type": "markdown",
      "metadata": {
        "id": "view-in-github",
        "colab_type": "text"
      },
      "source": [
        "<a href=\"https://colab.research.google.com/github/JoseManuel009/03MAIR-Algoritmos-de-Optimizacion/blob/main/Trabajo_Pr%C3%A1ctico_Algoritmos(V2%2Cno_borrar)_Jos%C3%A9_Manuel_Ballester_Marhuenda.ipynb\" target=\"_parent\"><img src=\"https://colab.research.google.com/assets/colab-badge.svg\" alt=\"Open In Colab\"/></a>"
      ]
    },
    {
      "cell_type": "markdown",
      "metadata": {
        "id": "hVbXYX-RfPWh"
      },
      "source": [
        "# Algoritmos de optimización - Trabajo Práctico<br>\n",
        "Nombre y Apellidos: JOSÉ MANUEL BALLESTER MARHUENDA  <br>\n",
        "Url: https://github.com/.../03MAIR---Algoritmos-de-Optimizacion---/tree/master/TrabajoPractico<br>\n",
        "Google Colab: https://colab.research.google.com/drive/19Nw1eieypR6vWv5OGjLl_UIthswnWWlh#scrollTo=hVbXYX-RfPWh <br>\n",
        "Problema:\n",
        "\n",
        ">2. Organizar los horarios de partidos de una jornada de La Liga<br>\n",
        "\n",
        "\n",
        "Descripción del problema:Desde la La Liga de fútbol profesional se pretende organizar los horarios de los partidos de liga de cada jornada. Se conocen algunos datos que nos deben llevar a diseñar un algoritmo que realice la asignación de los partidos a los horarios de forma que maximice la audiencia.\n",
        "\n",
        "\n",
        "\n",
        "\n",
        "\n",
        "\n",
        "\n",
        "                                        "
      ]
    },
    {
      "cell_type": "markdown",
      "source": [
        "#Modelo"
      ],
      "metadata": {
        "id": "Sbo9IqQtpaHZ"
      }
    },
    {
      "cell_type": "markdown",
      "source": [
        "**¿Como represento el espacio de soluciones?**\n",
        "\n",
        "El espacio de soluciones está representado por las asignaciones de los horarios a los partidos.\n",
        "\n",
        "Cada solución será una lista de 10 horarios (1 por partido)\n",
        "\n",
        "En total las posibles soluciones serán 10^10 lo que hace inviable la búsqueda exhaustiva."
      ],
      "metadata": {
        "id": "67p_vszBposu"
      }
    },
    {
      "cell_type": "markdown",
      "source": [
        "**¿Cual es la función objetivo?**\n",
        "\n",
        "La función objetivo tal y como se nos propone en el enunciado será maximizar la audiencia esperada y se calcula como:\n",
        "\n",
        "$$\n",
        "\\text{audiencia total}=\\sum_{i=1}^{N} (\\text{audiencia base del partido}_i ×  \\text{coeficiente del horario}_i)\n",
        "$$\n",
        "\n",
        "Además, se aplicarán penalizaciones si hay varios partidos en un mismo horario"
      ],
      "metadata": {
        "id": "Xjk590gSql0m"
      }
    },
    {
      "cell_type": "markdown",
      "source": [
        "**¿Como implemento las restricciones?**\n",
        "\n",
        "Tal y como se nos dice en el enunciado se fuerza a que haya al menos un partido el viernes a las 20:00 y otro el lunes a las 20:00, esto se especificará en una función denominada validacion_restricciones().\n",
        "\n",
        "Además también se penalizará la asignación de múñtiples partidos en el mismo horario, con una funcion llamada penalizaciones(cont), reduciendo la audiencia total cuando hay coincidencias.\n",
        "\n",
        "A continuación, se muestran ambas funciones:\n"
      ],
      "metadata": {
        "id": "_XrVs04uqUK_"
      }
    },
    {
      "cell_type": "code",
      "source": [
        "#Restricción ya que se sabe que al menos tiene que haber un partido el viernes y otro el lunes\n",
        "def validacion_restricciones(asignacion):\n",
        "  return 'Viernes_20' in asignacion and 'Lunes_20' in asignacion\n",
        "\n",
        "#Penalización coincidencias\n",
        "def penalizacion(cont):\n",
        "  penalizacion=[0,0.25,0.45,0.60,0.70,0.75,0.78,0.80,0.80]\n",
        "  return penalizacion[min(cont,8)]"
      ],
      "metadata": {
        "id": "fTpXCKL6wyo2"
      },
      "execution_count": 17,
      "outputs": []
    },
    {
      "cell_type": "markdown",
      "source": [
        "#Análisis"
      ],
      "metadata": {
        "id": "HZz52wOppp-U"
      }
    },
    {
      "cell_type": "markdown",
      "source": [
        "**¿Que complejidad tiene el problema?. Orden de complejidad y Contabilizar el espacio de soluciones**\n",
        "\n",
        "Como se puede observar hay 10^10 posibles asignaciones, la evaluacuación de cada solución tiene una complejidad de O(n), donde n es el número de partidos, en este caso 10.\n",
        "\n",
        "Con búsqueda exhaustiva el orden de complejida sería O(10^10)\n",
        "\n",
        "Sin embargo, como búsqueda exhaustiva es inviable, yo voy a resolver el problema con un algorítmo genético, cuya complejidad si nos basamos en la teoría viene dada como O(T x P x n), donde T es el número de generaciones que he fijado en 200, P es el tamaño de población que en este caso es 100 y n es el número de partidos que ya se ha visto que son 10.\n",
        "\n",
        "De tal forma que, la complejidad final usando algorítmos genéticos será O(200 x 100 x 10)=O(2 x 10^5), que es mucho más manejable."
      ],
      "metadata": {
        "id": "MSKNWzyVwx9d"
      }
    },
    {
      "cell_type": "markdown",
      "source": [
        "#Diseño\n"
      ],
      "metadata": {
        "id": "ixEJUwH_pv7M"
      }
    },
    {
      "cell_type": "markdown",
      "source": [
        "**¿Que técnica utilizo? ¿Por qué?**\n",
        "\n",
        "Como he indicado en el apartado anterior voy a usar un algorítmo genético para resolver el problema, porque por un lado el espacio de búqueda es muy grande para la optimización exhaustiva, por otro lado, el problema no tiene una estructura matemática clara que permita resolverlo con programación lineal y por último hay que tener en cuenta que los algorítmos genéticos encuentran muy buenas soluciones rápidamente y son relativamente fáciles de implementar.\n",
        "\n",
        "Los algorítmos genéticos encuentran buenas soluciones mediante:\n",
        "\n",
        "-Selección(para elegir las mejores soluciones)\n",
        "\n",
        "-Cruce(Combinación de las soluciones para explorar nuevas)\n",
        "\n",
        "-Mutación(introdución de diversidad para evitar estancamiento)\n",
        "\n",
        "A continuación se va a mostrar la implementación del algorítmo genético para la tabla de partidos que se muestra en el enunciado y también he realizado la implementación para los partidos que se juegan este fin de semana:"
      ],
      "metadata": {
        "id": "_ESQa8p2w_ht"
      }
    },
    {
      "cell_type": "markdown",
      "source": [
        "## Algorítmo Genético para la asignación de partidos teniendo en cuenta los partidos del ejemplo"
      ],
      "metadata": {
        "id": "7HXQLfj7r1ZE"
      }
    },
    {
      "cell_type": "code",
      "source": [
        "#Respuesta\n",
        "import time\n",
        "import random\n",
        "import numpy as np\n",
        "horarios_disponibles=['Viernes_20','Sábado_12','Sábado_16','Sábado_18','Sábado_20','Domingo_12','Domingo_16','Domingo_18','Domingo_20','Lunes_20']\n",
        "coef_horario={'Viernes_20':0.4,'Sábado_12':0.55,'Sábado_16':0.7,'Sábado_18':0.8,'Sábado_20':1,'Domingo_12':0.45,'Domingo_16':0.75,'Domingo_18':0.8,'Domingo_20':1,'Lunes_20':0.4}\n",
        "\n",
        "#Restricción ya que se sabe que al menos tiene que haber un partido el viernes y otro el lunes\n",
        "def validacion_restricciones(asignacion):\n",
        "  return 'Viernes_20' in asignacion and 'Lunes_20' in asignacion\n",
        "\n",
        "#Penalización coincidencias\n",
        "def penalizacion(cont):\n",
        "  penalizacion=[0,0.25,0.45,0.60,0.70,0.75,0.78,0.80,0.80]\n",
        "  return penalizacion[min(cont,8)]\n",
        "\n",
        "#Datos de audiencia dependiendo del tipo de partido\n",
        "audiencia_base={\n",
        "    ('A','A'):2.0, ('A','B'):1.3, ('A','C'):1.0,\n",
        "    ('B','A'):1.3,('B','B'):0.9,('B','C'):0.75,('C','C'):0.47\n",
        "}\n",
        "#Partidos ejemplo\n",
        "partidos_ejemplo=[\n",
        "    ('Celta','Real Madrid','B','A'),\n",
        "    ('Valencia','Real Sociedad','B','A'),\n",
        "    ('Mallorca','Eibar','C','C'),\n",
        "    ('Athletic','Barcelona','B','A'),\n",
        "    ('Leganés','Osasuna','C','C'),\n",
        "    ('Villarreal','Granada','B','C'),\n",
        "    ('Alavés','Levante','B','B'),\n",
        "    ('Espanyol','Sevilla','B','B'),\n",
        "    ('Betis','Valladolid','B','B'),\n",
        "    ('Atlético','Getafe','B','B')\n",
        "]\n",
        "#Función de evaluación\n",
        "def calculo_audiencia(asignacion):\n",
        "  if not validacion_restricciones(asignacion):\n",
        "    return 0\n",
        "  contar_horarios={h:0 for h in horarios_disponibles}\n",
        "  audiencia_total=0\n",
        "  for i,horario in enumerate(asignacion):\n",
        "    equipo1,equipo2,categoria1,categoria2=partidos_ejemplo[i]\n",
        "    audiencia_base_partido=audiencia_base[(categoria1,categoria2)]\n",
        "    coef=coef_horario[horario]\n",
        "    contar_horarios[horario]+=1\n",
        "    audiencia_total+=audiencia_base_partido*coef\n",
        "\n",
        "  #Aplicacion de la penalización por coincidencias\n",
        "  for h in horarios_disponibles:\n",
        "    if contar_horarios[h]>1:\n",
        "      penal=penalizacion(contar_horarios[h]-1)\n",
        "      audiencia_total*=(1-penal)\n",
        "  return audiencia_total\n",
        "\n",
        "#Algorítmo genético\n",
        "TAMAÑO_POP=100\n",
        "GENERACIONES=200\n",
        "RATIO_MUTACION=0.1\n",
        "\n",
        "#Genero una población inicial\n",
        "def generar_poblacion():\n",
        "  poblacion=[]\n",
        "  while len(poblacion)<TAMAÑO_POP:\n",
        "    individuo=[random.choice(horarios_disponibles) for _ in partidos_ejemplo]\n",
        "    if validacion_restricciones(individuo):\n",
        "      poblacion.append(individuo)\n",
        "  return poblacion\n",
        "\n",
        "#Selección por torneo\n",
        "def seleccion(poblacion):\n",
        "  torneo=random.sample(poblacion,5)\n",
        "  return max(torneo, key=calculo_audiencia)\n",
        "\n",
        "#Cruce de los padres\n",
        "def cruce(padre1,padre2):\n",
        "  punto=random.randint(1,len(partidos_ejemplo)-1)\n",
        "  hijo1=padre1[:punto]+padre2[punto:]\n",
        "  hijo2=padre2[:punto]+padre1[punto:]\n",
        "  return hijo1,hijo2\n",
        "\n",
        "#Mutación\n",
        "def mutacion(individuo):\n",
        "  if random.random()<RATIO_MUTACION:\n",
        "    i=random.randint(0,len(partidos_ejemplo)-1)\n",
        "    individuo[i]=random.choice(horarios_disponibles)\n",
        "  return individuo\n",
        "\n",
        "#Algorítmo genético principal\n",
        "def algoritmo_genetico():\n",
        "  poblacion=generar_poblacion()\n",
        "  for _ in range(GENERACIONES):\n",
        "    nueva_poblacion=[]\n",
        "    for _ in range(TAMAÑO_POP // 2):\n",
        "      padre1=seleccion(poblacion)\n",
        "      padre2=seleccion(poblacion)\n",
        "      hijo1,hijo2=cruce(padre1,padre2)\n",
        "      nueva_poblacion.extend([mutacion(hijo1),mutacion(hijo2)])\n",
        "    poblacion=nueva_poblacion\n",
        "\n",
        "  mejor_solucion=max(poblacion,key=calculo_audiencia)\n",
        "  return mejor_solucion, calculo_audiencia(mejor_solucion)\n",
        "inicio=time.time()\n",
        "#Ejecuto el algorítmo\n",
        "mejor_asignacion, mejor_audiencia=algoritmo_genetico()\n",
        "fin=time.time()\n",
        "print(f'Tiempo de ejecución: {fin-inicio} segundos')\n",
        "print('Mejor asignación de horarios:')\n",
        "for i,horario in enumerate(mejor_asignacion):\n",
        "  print(f'{partidos_ejemplo[i][0]} vs {partidos_ejemplo[i][1]} -> {horario}')\n",
        "print(f'Audiencia total esperada:{mejor_audiencia:.2f} millones')"
      ],
      "metadata": {
        "id": "ZdKPjB9gp2BA",
        "colab": {
          "base_uri": "https://localhost:8080/"
        },
        "outputId": "b8990160-ba09-4458-a469-fcfa135a213b"
      },
      "execution_count": 20,
      "outputs": [
        {
          "output_type": "stream",
          "name": "stdout",
          "text": [
            "Tiempo de ejecución: 0.9312498569488525 segundos\n",
            "Mejor asignación de horarios:\n",
            "Celta vs Real Madrid -> Domingo_20\n",
            "Valencia vs Real Sociedad -> Domingo_18\n",
            "Mallorca vs Eibar -> Lunes_20\n",
            "Athletic vs Barcelona -> Domingo_12\n",
            "Leganés vs Osasuna -> Viernes_20\n",
            "Villarreal vs Granada -> Sábado_20\n",
            "Alavés vs Levante -> Sábado_18\n",
            "Espanyol vs Sevilla -> Sábado_12\n",
            "Betis vs Valladolid -> Sábado_16\n",
            "Atlético vs Getafe -> Domingo_16\n",
            "Audiencia total esperada:6.57 millones\n"
          ]
        }
      ]
    },
    {
      "cell_type": "markdown",
      "source": [
        "## Algorítmo Genético para la asignación de partidos teniendo en cuenta los partidos de la jornada actual"
      ],
      "metadata": {
        "id": "eItoKytl0oGN"
      }
    },
    {
      "cell_type": "code",
      "source": [
        "#Respuesta\n",
        "import time\n",
        "import random\n",
        "import numpy as np\n",
        "horarios_disponibles=['Viernes_20','Sábado_12','Sábado_16','Sábado_18','Sábado_20','Domingo_12','Domingo_16','Domingo_18','Domingo_20','Lunes_20']\n",
        "coef_horario={'Viernes_20':0.4,'Sábado_12':0.55,'Sábado_16':0.7,'Sábado_18':0.8,'Sábado_20':1,'Domingo_12':0.45,'Domingo_16':0.75,'Domingo_18':0.8,'Domingo_20':1,'Lunes_20':0.4}\n",
        "\n",
        "#Restricción ya que se sabe que al menos tiene que haber un partido el viernes y otro el lunes\n",
        "def validacion_restricciones(asignacion):\n",
        "  return 'Viernes_20' in asignacion and 'Lunes_20' in asignacion\n",
        "\n",
        "#Penalización coincidencias\n",
        "def penalizacion(cont):\n",
        "  penalizacion=[0,0.25,0.45,0.60,0.70,0.75,0.78,0.80,0.80]\n",
        "  return penalizacion[min(cont,8)]\n",
        "\n",
        "#Datos de audiencia dependiendo del tipo de partido\n",
        "audiencia_base={\n",
        "    ('A','A'):2.0, ('A','B'):1.3, ('A','C'):1.0,\n",
        "    ('B','A'):1.3,('B','B'):0.9,('B','C'):0.75,('C','B'):0.75,('C','C'):0.47\n",
        "}\n",
        "#Partidos jornada 26 de la liga 2024/2025\n",
        "partidos_jornada_actual=[\n",
        "    ('Valladolid','Las Palmas','C','C'),\n",
        "    ('Girona','Celta','B','B'),\n",
        "    ('Rayo Vallecano','Sevilla','B','B'),\n",
        "    ('Betis','Real Madrid','B','A'),\n",
        "    ('Atlético','Athletic','A','B'),\n",
        "    ('Leganés','Getafe','C','B'),\n",
        "    ('Barcelona','Real Sociedad','A','B'),\n",
        "    ('Mallorca','Alavés','B','B'),\n",
        "    ('Osasuna','Valencia','B','B'),\n",
        "    ('Villarreal','Espanyol','B','B')\n",
        "]\n",
        "#Función de evaluación\n",
        "def calculo_audiencia(asignacion):\n",
        "  if not validacion_restricciones(asignacion):\n",
        "    return 0\n",
        "  contar_horarios={h:0 for h in horarios_disponibles}\n",
        "  audiencia_total=0\n",
        "  for i,horario in enumerate(asignacion):\n",
        "    equipo1,equipo2,categoria1,categoria2=partidos_jornada_actual[i]\n",
        "    audiencia_base_partido=audiencia_base[(categoria1,categoria2)]\n",
        "    coef=coef_horario[horario]\n",
        "    contar_horarios[horario]+=1\n",
        "    audiencia_total+=audiencia_base_partido*coef\n",
        "\n",
        "  #Aplicacion de la penalización por coincidencias\n",
        "  for h in horarios_disponibles:\n",
        "    if contar_horarios[h]>1:\n",
        "      penal=penalizacion(contar_horarios[h]-1)\n",
        "      audiencia_total*=(1-penal)\n",
        "  return audiencia_total\n",
        "\n",
        "#Algorítmo genético\n",
        "TAMAÑO_POP=100\n",
        "GENERACIONES=200\n",
        "RATIO_MUTACION=0.1\n",
        "\n",
        "#Genero una población inicial\n",
        "def generar_poblacion():\n",
        "  poblacion=[]\n",
        "  while len(poblacion)<TAMAÑO_POP:\n",
        "    individuo=[random.choice(horarios_disponibles) for _ in partidos_jornada_actual]\n",
        "    if validacion_restricciones(individuo):\n",
        "      poblacion.append(individuo)\n",
        "  return poblacion\n",
        "\n",
        "#Selección por torneo\n",
        "def seleccion(poblacion):\n",
        "  torneo=random.sample(poblacion,5)\n",
        "  return max(torneo, key=calculo_audiencia)\n",
        "\n",
        "#Cruce de los padres\n",
        "def cruce(padre1,padre2):\n",
        "  punto=random.randint(1,len(partidos_jornada_actual)-1)\n",
        "  hijo1=padre1[:punto]+padre2[punto:]\n",
        "  hijo2=padre2[:punto]+padre1[punto:]\n",
        "  return hijo1,hijo2\n",
        "\n",
        "#Mutación\n",
        "def mutacion(individuo):\n",
        "  if random.random()<RATIO_MUTACION:\n",
        "    i=random.randint(0,len(partidos_jornada_actual)-1)\n",
        "    individuo[i]=random.choice(horarios_disponibles)\n",
        "  return individuo\n",
        "\n",
        "#Algorítmo genético principal\n",
        "def algoritmo_genetico():\n",
        "  poblacion=generar_poblacion()\n",
        "  for _ in range(GENERACIONES):\n",
        "    nueva_poblacion=[]\n",
        "    for _ in range(TAMAÑO_POP // 2):\n",
        "      padre1=seleccion(poblacion)\n",
        "      padre2=seleccion(poblacion)\n",
        "      hijo1,hijo2=cruce(padre1,padre2)\n",
        "      nueva_poblacion.extend([mutacion(hijo1),mutacion(hijo2)])\n",
        "    poblacion=nueva_poblacion\n",
        "\n",
        "  mejor_solucion=max(poblacion,key=calculo_audiencia)\n",
        "  return mejor_solucion, calculo_audiencia(mejor_solucion)\n",
        "inicio=time.time()\n",
        "#Ejecuto el algorítmo\n",
        "mejor_asignacion, mejor_audiencia=algoritmo_genetico()\n",
        "fin=time.time()\n",
        "print(f'Tiempo de ejecución: {fin-inicio} segundos')\n",
        "print('Mejor asignación de horarios:')\n",
        "for i,horario in enumerate(mejor_asignacion):\n",
        "  print(f'{partidos_jornada_actual[i][0]} vs {partidos_jornada_actual[i][1]} -> {horario}')\n",
        "print(f'Audiencia total esperada:{mejor_audiencia:.2f} millones')"
      ],
      "metadata": {
        "colab": {
          "base_uri": "https://localhost:8080/"
        },
        "id": "O_PMCbHt0t32",
        "outputId": "82151b15-04ea-44a7-d9c6-c43db8470e66"
      },
      "execution_count": 21,
      "outputs": [
        {
          "output_type": "stream",
          "name": "stdout",
          "text": [
            "Tiempo de ejecución: 0.5503056049346924 segundos\n",
            "Mejor asignación de horarios:\n",
            "Valladolid vs Las Palmas -> Viernes_20\n",
            "Girona vs Celta -> Domingo_18\n",
            "Rayo Vallecano vs Sevilla -> Sábado_16\n",
            "Betis vs Real Madrid -> Sábado_18\n",
            "Atlético vs Athletic -> Sábado_12\n",
            "Leganés vs Getafe -> Domingo_12\n",
            "Barcelona vs Real Sociedad -> Domingo_20\n",
            "Mallorca vs Alavés -> Domingo_16\n",
            "Osasuna vs Valencia -> Lunes_20\n",
            "Villarreal vs Espanyol -> Sábado_20\n",
            "Audiencia total esperada:6.87 millones\n"
          ]
        }
      ]
    },
    {
      "cell_type": "markdown",
      "source": [
        "# Conclusión"
      ],
      "metadata": {
        "id": "3TyLZXtI2ipl"
      }
    },
    {
      "cell_type": "markdown",
      "source": [
        "En conclusión, el algorítmo genético ofrece un buen equilibrio entre exploración y explotación, permitiendo encontrar soluciones bastante cercanas al óptimo en un tiempo más que razonable."
      ],
      "metadata": {
        "id": "fMJP-rvv2ldk"
      }
    }
  ]
}